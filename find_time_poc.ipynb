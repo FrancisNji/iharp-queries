{
 "cells": [
  {
   "cell_type": "code",
   "execution_count": null,
   "metadata": {},
   "outputs": [],
   "source": [
    "import pandas as pd\n",
    "import xarray as xr\n",
    "\n",
    "time_points = pd.date_range(start=\"2020-01-01\", end=\"2023-12-31\", freq=\"h\")\n",
    "ds = xr.Dataset(\n",
    "    data_vars={\"2m_temperature\": ([\"time\"], [1] * len(time_points))},\n",
    "    coords=dict(time=time_points),\n",
    ")\n",
    "ds"
   ]
  },
  {
   "cell_type": "code",
   "execution_count": null,
   "metadata": {},
   "outputs": [],
   "source": [
    "# set year to True\n",
    "ds[\"2m_temperature\"].loc[\"2020\":\"2020\"] = True\n",
    "ds['time'].where(ds[\"2m_temperature\"], drop=True)"
   ]
  },
  {
   "cell_type": "code",
   "execution_count": null,
   "metadata": {},
   "outputs": [],
   "source": [
    "# set month to False\n",
    "ds[\"2m_temperature\"].loc[\"2021-01\":\"2021-01\"] = False\n",
    "ds['time'].where(ds[\"2m_temperature\"]==False, drop=True)"
   ]
  },
  {
   "cell_type": "code",
   "execution_count": null,
   "metadata": {},
   "outputs": [],
   "source": [
    "# get times whose temperature is undetermined\n",
    "ds[\"time\"].where(ds[\"2m_temperature\"].isnull(), drop=True)"
   ]
  },
  {
   "cell_type": "code",
   "execution_count": null,
   "metadata": {},
   "outputs": [],
   "source": [
    "min_hour = ds['time'].where(ds[\"2m_temperature\"].isnull(), drop=True).min().values\n",
    "max_hour = ds['time'].where(ds[\"2m_temperature\"].isnull(), drop=True).max().values"
   ]
  },
  {
   "cell_type": "code",
   "execution_count": null,
   "metadata": {},
   "outputs": [],
   "source": [
    "ds.isnull()"
   ]
  },
  {
   "cell_type": "code",
   "execution_count": null,
   "metadata": {},
   "outputs": [],
   "source": [
    "un = ds[\"time\"].where(ds[\"2m_temperature\"].isnull(), drop=True)"
   ]
  },
  {
   "cell_type": "code",
   "execution_count": null,
   "metadata": {},
   "outputs": [],
   "source": [
    "un.size"
   ]
  },
  {
   "cell_type": "code",
   "execution_count": null,
   "metadata": {},
   "outputs": [],
   "source": []
  }
 ],
 "metadata": {
  "kernelspec": {
   "display_name": "venv",
   "language": "python",
   "name": "python3"
  },
  "language_info": {
   "codemirror_mode": {
    "name": "ipython",
    "version": 3
   },
   "file_extension": ".py",
   "mimetype": "text/x-python",
   "name": "python",
   "nbconvert_exporter": "python",
   "pygments_lexer": "ipython3",
   "version": "3.11.10"
  }
 },
 "nbformat": 4,
 "nbformat_minor": 2
}
