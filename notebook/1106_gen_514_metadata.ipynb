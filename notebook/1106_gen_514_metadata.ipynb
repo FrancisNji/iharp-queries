{
 "cells": [
  {
   "cell_type": "code",
   "execution_count": 15,
   "id": "initial_id",
   "metadata": {
    "collapsed": true
   },
   "outputs": [],
   "source": [
    "import pandas as pd\n",
    "\n",
    "records = []\n",
    "for year in range(1984, 2024):\n",
    "    meta = [\n",
    "        \"2m_temperature\",\n",
    "        f\"{year}-01-01\",\n",
    "        f\"{year}-12-31\",\n",
    "        90,\n",
    "        -90,\n",
    "        180,\n",
    "        -180,\n",
    "        \"hour\",\n",
    "        0.25,\n",
    "        \"none\",\n",
    "        f\"/data/era5/raw/2m_temperature/2m_temperature-{year}.nc\"\n",
    "    ]\n",
    "    records.append(meta)\n",
    "\n",
    "agg = [\n",
    "    [\"2m_temperature\", \"1984-01-01\", \"2023-12-31\", 90, -90, 180, -180, \"day\", 0.25, \"min\", \"/data/era5/agg/2m_temperature/2m_temperature-day-min.nc\"],\n",
    "    [\"2m_temperature\", \"1984-01-01\", \"2023-12-31\", 90, -90, 180, -180, \"day\", 0.25, \"max\", \"/data/era5/agg/2m_temperature/2m_temperature-day-max.nc\"],\n",
    "    [\"2m_temperature\", \"1984-01-01\", \"2023-12-31\", 90, -90, 180, -180, \"day\", 0.25, \"mean\", \"/data/era5/agg/2m_temperature/2m_temperature-day-mean.nc\"],\n",
    "    [\"2m_temperature\", \"1984-01-01\", \"2023-12-31\", 90, -90, 180, -180, \"month\", 0.25, \"min\", \"/data/era5/agg/2m_temperature/2m_temperature-month-min.nc\"],\n",
    "    [\"2m_temperature\", \"1984-01-01\", \"2023-12-31\", 90, -90, 180, -180, \"month\", 0.25, \"max\", \"/data/era5/agg/2m_temperature/2m_temperature-month-max.nc\"],\n",
    "    [\"2m_temperature\", \"1984-01-01\", \"2023-12-31\", 90, -90, 180, -180, \"month\", 0.25, \"mean\", \"/data/era5/agg/2m_temperature/2m_temperature-month-mean.nc\"],\n",
    "    [\"2m_temperature\", \"1984-01-01\", \"2023-12-31\", 90, -90, 180, -180, \"year\", 0.25, \"min\", \"/data/era5/agg/2m_temperature/2m_temperature-year-min.nc\"],\n",
    "    [\"2m_temperature\", \"1984-01-01\", \"2023-12-31\", 90, -90, 180, -180, \"year\", 0.25, \"max\", \"/data/era5/agg/2m_temperature/2m_temperature-year-max.nc\"],\n",
    "    [\"2m_temperature\", \"1984-01-01\", \"2023-12-31\", 90, -90, 180, -180, \"year\", 0.25, \"mean\", \"/data/era5/agg/2m_temperature/2m_temperature-year-mean.nc\"]\n",
    "]\n",
    "records.extend(agg)\n",
    "\n",
    "df = pd.DataFrame(records, columns=[\n",
    "    \"variable\",\n",
    "    \"start_date\",\n",
    "    \"end_date\",\n",
    "    \"max_lat\",\n",
    "    \"min_lat\",\n",
    "    \"max_lon\",\n",
    "    \"min_lon\",\n",
    "    \"temporal_resolution\",\n",
    "    \"spatial_resolution\",\n",
    "    \"aggregation\",\n",
    "    \"file_path\"\n",
    "])\n",
    "df.to_csv(\"metadata.csv\", index=False)"
   ]
  },
  {
   "cell_type": "code",
   "execution_count": null,
   "id": "7e24c58d",
   "metadata": {},
   "outputs": [],
   "source": []
  }
 ],
 "metadata": {
  "kernelspec": {
   "display_name": "venv",
   "language": "python",
   "name": "python3"
  },
  "language_info": {
   "codemirror_mode": {
    "name": "ipython",
    "version": 3
   },
   "file_extension": ".py",
   "mimetype": "text/x-python",
   "name": "python",
   "nbconvert_exporter": "python",
   "pygments_lexer": "ipython3",
   "version": "3.11.10"
  }
 },
 "nbformat": 4,
 "nbformat_minor": 5
}
